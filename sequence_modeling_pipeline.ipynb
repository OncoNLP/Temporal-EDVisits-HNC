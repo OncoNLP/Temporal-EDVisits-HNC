{
 "cells": [
  {
   "cell_type": "code",
   "execution_count": null,
   "metadata": {},
   "outputs": [],
   "source": [
    "import os\n",
    "os.environ['CUDA_DEVICE_ORDER']='PCI_BUS_ID'\n",
    "os.environ['CUDA_VISIBLE_DEVICES']='0,1,2,3'\n",
    "import json\n",
    "import torch\n",
    "import pprint\n",
    "import openai\n",
    "import optuna\n",
    "import pickle \n",
    "import numpy as np\n",
    "import pandas as pd\n",
    "import torch.nn as nn\n",
    "from tqdm import tqdm\n",
    "import torch.optim as optim\n",
    "from torch.utils.data import Dataset\n",
    "from torch.utils.data import DataLoader\n",
    "from sklearn.model_selection import StratifiedKFold\n",
    "from sentence_transformers import SentenceTransformer\n",
    "from sklearn.metrics import accuracy_score, roc_auc_score\n",
    "from sklearn.metrics import precision_score, recall_score, f1_score\n",
    "from torch.nn.utils.rnn import pack_padded_sequence, pad_packed_sequence\n",
    "from sklearn.metrics import accuracy_score, precision_score, recall_score, f1_score, roc_auc_score\n",
    "\n",
    "%config InlineBackend.figure_format = 'retina'\n",
    "\n",
    "import warnings\n",
    "warnings.filterwarnings('ignore')\n"
   ]
  },
  {
   "cell_type": "code",
   "execution_count": null,
   "metadata": {},
   "outputs": [],
   "source": [
    "device = torch.device('cuda' if torch.cuda.is_available() else 'cpu')"
   ]
  },
  {
   "cell_type": "markdown",
   "metadata": {},
   "source": [
    "# 1. Load pre-processed temporal data\n",
    "---"
   ]
  },
  {
   "cell_type": "code",
   "execution_count": null,
   "metadata": {},
   "outputs": [
    {
     "name": "stdout",
     "output_type": "stream",
     "text": [
      "<class 'pandas.core.frame.DataFrame'>\n",
      "RangeIndex: 499 entries, 0 to 498\n",
      "Data columns (total 7 columns):\n",
      " #   Column                        Non-Null Count  Dtype \n",
      "---  ------                        --------------  ----- \n",
      " 0   MRN                           499 non-null    int64 \n",
      " 1   pre_completion_notes          499 non-null    object\n",
      " 2   pre_completion_ED_flag_LLAMA  499 non-null    object\n",
      " 3   0_3_months_notes              499 non-null    object\n",
      " 4   0_3_months_ED_flag_LLAMA      499 non-null    object\n",
      " 5   3_6_months_notes              499 non-null    object\n",
      " 6   3_6_months_ED_flag_LLAMA      499 non-null    object\n",
      "dtypes: int64(1), object(6)\n",
      "memory usage: 27.4+ KB\n"
     ]
    }
   ],
   "source": [
    "data = pd.read_csv(\"/home/srinivasb/snap/snapd-desktop-integration/current/Documents/headneck/manuscript/data/499_llama_labeled_H&N_patients_temporal_data.csv\")\n",
    "data = data[['MRN', 'pre_completion_notes', 'pre_completion_ED_flag_LLAMA',\n",
    "             '0_3_months_notes', '0_3_months_ED_flag_LLAMA', '3_6_months_notes', '3_6_months_ED_flag_LLAMA']]\n",
    "data.info()"
   ]
  },
  {
   "cell_type": "markdown",
   "metadata": {},
   "source": [
    "# 2. Embeddings\n",
    "---"
   ]
  },
  {
   "cell_type": "code",
   "execution_count": null,
   "metadata": {},
   "outputs": [],
   "source": [
    "model = SentenceTransformer(\"jinaai/jina-embeddings-v3\", trust_remote_code=True)\n",
    "max_length = 8194\n",
    "overlap = 0.8  # 80% overlap for chunking\n",
    "chunk_size = int(max_length * (1 - overlap))\n",
    "\n",
    "# Chunk the text with 80% overlap\n",
    "def chunk_text(text, max_length, overlap):\n",
    "    words = text.split()  \n",
    "    chunks = []\n",
    "    start_idx = 0\n",
    "    while start_idx < len(words):\n",
    "        end_idx = min(start_idx + max_length, len(words))\n",
    "        chunks.append(\" \".join(words[start_idx:end_idx]))\n",
    "        start_idx = int(start_idx + chunk_size) \n",
    "        if start_idx >= len(words): \n",
    "            break\n",
    "    return chunks\n",
    "\n",
    "\n",
    "# Generate embeddings for each chunk\n",
    "def get_chunk_embeddings(chunks, model):\n",
    "    embeddings = []\n",
    "    for chunk in chunks:\n",
    "        embedding = model.encode(chunk)  \n",
    "        embeddings.append(embedding)\n",
    "    return np.array(embeddings)\n",
    "\n",
    "\n",
    "# Apply max pooling across chunk embeddings\n",
    "def max_pooling(embeddings):\n",
    "    return np.max(embeddings, axis=0)\n",
    "\n",
    "\n",
    "# Generate the final embedding for the text using chunking and max pooling\n",
    "def get_max_pooled_embedding(text, model, max_length, overlap):\n",
    "    # Step 1: Chunk the text with overlap\n",
    "    chunks = chunk_text(text, max_length, overlap)\n",
    "    \n",
    "    # Step 2: Generate embeddings for each chunk\n",
    "    chunk_embeddings = get_chunk_embeddings(chunks, model)\n",
    "    \n",
    "    # Step 3: Apply max pooling to get the final representation\n",
    "    pooled_embedding = max_pooling(chunk_embeddings)\n",
    "    \n",
    "    return pooled_embedding"
   ]
  },
  {
   "cell_type": "code",
   "execution_count": null,
   "metadata": {},
   "outputs": [
    {
     "name": "stderr",
     "output_type": "stream",
     "text": [
      "Processing pre_completion_notes: 100%|██████████| 499/499 [15:20<00:00,  1.84s/note]"
     ]
    },
    {
     "name": "stdout",
     "output_type": "stream",
     "text": [
      "Embeddings saved to 'embeddings.pkl'\n"
     ]
    },
    {
     "name": "stderr",
     "output_type": "stream",
     "text": [
      "\n"
     ]
    }
   ],
   "source": [
    "embeddings = []\n",
    "for note in tqdm(data['3_6_months_notes'], desc=\"Processing pre_completion_notes\", unit=\"note\"):\n",
    "    pooled_embedding = get_max_pooled_embedding(note, model, max_length, overlap)\n",
    "    embeddings.append(pooled_embedding)\n",
    "\n",
    "embeddings = np.array(embeddings)\n",
    "\n",
    "# Save all the embeddings\n",
    "with open('/home/srinivasb/snap/snapd-desktop-integration/current/Documents/headneck/manuscript/data/embeddings/3_6_months_notes_embeddings.pkl', 'wb') as f:\n",
    "    pickle.dump(embeddings, f)\n",
    "\n",
    "print(\"Embeddings saved to 'embeddings.pkl'\")"
   ]
  },
  {
   "cell_type": "markdown",
   "metadata": {},
   "source": [
    "# 3. Prepare train and test sets\n",
    "---"
   ]
  },
  {
   "cell_type": "code",
   "execution_count": null,
   "metadata": {},
   "outputs": [],
   "source": [
    "with open('/home/srinivasb/snap/snapd-desktop-integration/current/Documents/headneck/manuscript/data/embeddings/pre_completion_notes_embeddings.pkl', 'rb') as f:\n",
    "    pre_completion_embeddings = pickle.load(f)\n",
    "\n",
    "with open('/home/srinivasb/snap/snapd-desktop-integration/current/Documents/headneck/manuscript/data/embeddings/0_3_months_notes_embeddings.pkl', 'rb') as f:\n",
    "    zero_3_months_embeddings = pickle.load(f)\n",
    "\n",
    "with open('/home/srinivasb/snap/snapd-desktop-integration/current/Documents/headneck/manuscript/data/embeddings/3_6_months_notes_embeddings.pkl', 'rb') as f:\n",
    "    three_6_months_embeddings = pickle.load(f)\n",
    "\n",
    "data['pre_completion_notes_embedding'] = list(pre_completion_embeddings)\n",
    "data['0_3_months_notes_embedding'] = list(zero_3_months_embeddings)\n",
    "data['3_6_months_notes_embedding'] = list(three_6_months_embeddings)\n",
    "X_pre = np.stack(data['pre_completion_notes_embedding'].values)\n",
    "X_0_3 = np.stack(data['0_3_months_notes_embedding'].values)\n",
    "X_3_6 = np.stack(data['3_6_months_notes_embedding'].values)\n",
    "\n",
    "X = np.stack([X_pre, X_0_3, X_3_6], axis=1)\n",
    "\n",
    "y = np.array([\n",
    "    data['pre_completion_ED_flag_LLAMA'].apply(lambda x: 0 if x == \"ED Visit\" else 1),\n",
    "    data['0_3_months_ED_flag_LLAMA'].apply(lambda x: 0 if x == \"ED Visit\" else 1),\n",
    "    data['3_6_months_ED_flag_LLAMA'].apply(lambda x: 0 if x == \"ED Visit\" else 1),\n",
    "]).T"
   ]
  },
  {
   "cell_type": "code",
   "execution_count": 35,
   "metadata": {},
   "outputs": [
    {
     "data": {
      "text/plain": [
       "((499, 3, 1024), (499, 3))"
      ]
     },
     "execution_count": 35,
     "metadata": {},
     "output_type": "execute_result"
    }
   ],
   "source": [
    "X.shape, y.shape"
   ]
  },
  {
   "cell_type": "code",
   "execution_count": null,
   "metadata": {},
   "outputs": [
    {
     "data": {
      "text/plain": [
       "((481, 3, 1024), (481, 3))"
      ]
     },
     "execution_count": 36,
     "metadata": {},
     "output_type": "execute_result"
    }
   ],
   "source": [
    "# Remove rows where all values in y are 0\n",
    "rows_with_zeros = np.all(y == 0, axis=1)\n",
    "\n",
    "indices_to_remove = np.where(rows_with_zeros)[0]\n",
    "\n",
    "num_to_remove = int(len(indices_to_remove) * 1.0)\n",
    "random_indices_to_remove = np.random.choice(indices_to_remove, size=num_to_remove, replace=False)\n",
    "\n",
    "X = np.delete(X, random_indices_to_remove, axis=0)\n",
    "y = np.delete(y, random_indices_to_remove, axis=0)\n",
    "X.shape, y.shape"
   ]
  },
  {
   "cell_type": "markdown",
   "metadata": {},
   "source": [
    "# 4. Sequence modeling\n",
    "---"
   ]
  },
  {
   "cell_type": "code",
   "execution_count": 37,
   "metadata": {},
   "outputs": [],
   "source": [
    "class EDVisitDataset(Dataset):\n",
    "    def __init__(self, X, y):\n",
    "        self.X = torch.tensor(X, dtype=torch.float32)\n",
    "        self.y = torch.tensor(y, dtype=torch.float32)\n",
    "\n",
    "    def __len__(self):\n",
    "        return self.X.shape[0]\n",
    "\n",
    "    def __getitem__(self, idx):\n",
    "        return self.X[idx], self.y[idx]"
   ]
  },
  {
   "cell_type": "code",
   "execution_count": null,
   "metadata": {},
   "outputs": [],
   "source": [
    "class EDVisitLSTM(nn.Module):\n",
    "    def __init__(self, input_dim, hidden_dim_1, hidden_dim_2, dropout_rate=0.5):\n",
    "        super(EDVisitLSTM, self).__init__()\n",
    "\n",
    "        self.lstm_1 = nn.LSTM(input_dim, hidden_dim_1, batch_first=True, bidirectional=True)\n",
    "        self.layer_norm_1 = nn.LayerNorm(hidden_dim_1 * 2)\n",
    "        self.dropout_1 = nn.Dropout(dropout_rate)\n",
    "\n",
    "        self.lstm_2 = nn.LSTM(hidden_dim_1 * 2, hidden_dim_2, batch_first=True, bidirectional=True)\n",
    "        self.layer_norm_2 = nn.LayerNorm(hidden_dim_2 * 2)\n",
    "        self.dropout_2 = nn.Dropout(dropout_rate)\n",
    "\n",
    "        self.output_layer = nn.Linear(hidden_dim_2 * 2, 1) \n",
    "\n",
    "    def forward(self, x):\n",
    "        x, _ = self.lstm_1(x)\n",
    "        x = self.layer_norm_1(x)\n",
    "        x = self.dropout_1(x)\n",
    "\n",
    "        x, _ = self.lstm_2(x)\n",
    "        x = self.layer_norm_2(x)\n",
    "        x = self.dropout_2(x)\n",
    "\n",
    "        x = self.output_layer(x).squeeze(-1)\n",
    "        return x\n"
   ]
  },
  {
   "cell_type": "code",
   "execution_count": null,
   "metadata": {},
   "outputs": [
    {
     "data": {
      "text/plain": [
       "((336, 3, 1024), (145, 3, 1024))"
      ]
     },
     "execution_count": 39,
     "metadata": {},
     "output_type": "execute_result"
    }
   ],
   "source": [
    "from sklearn.model_selection import train_test_split\n",
    "\n",
    "# Split into 70% train, 30% test\n",
    "X_train, X_test, y_train, y_test = train_test_split(\n",
    "    X, y, test_size=0.30, random_state=42, stratify=y\n",
    ")\n",
    "\n",
    "X_train.shape, X_test.shape"
   ]
  },
  {
   "cell_type": "code",
   "execution_count": 40,
   "metadata": {},
   "outputs": [],
   "source": [
    "# Create train and test datasets\n",
    "train_dataset = EDVisitDataset(X_train, y_train)\n",
    "test_dataset = EDVisitDataset(X_test, y_test)\n",
    "\n",
    "# Dataloaders\n",
    "train_loader = DataLoader(train_dataset, batch_size=32, shuffle=True)\n",
    "test_loader = DataLoader(test_dataset, batch_size=32, shuffle=False)\n"
   ]
  },
  {
   "cell_type": "markdown",
   "metadata": {},
   "source": [
    "# 5. Bayesian optimization\n",
    "---"
   ]
  },
  {
   "cell_type": "code",
   "execution_count": null,
   "metadata": {},
   "outputs": [],
   "source": [
    "from sklearn.model_selection import StratifiedKFold\n",
    "import numpy as np\n",
    "\n",
    "def objective(trial):\n",
    "    # Hyperparameter suggestions\n",
    "    hidden_dim_1 = trial.suggest_int('hidden_dim_1', 50, 200)\n",
    "    hidden_dim_2 = trial.suggest_int('hidden_dim_2', 25, 100)\n",
    "    learning_rate = trial.suggest_loguniform('learning_rate', 1e-5, 1e-3)\n",
    "    dropout_rate = trial.suggest_uniform('dropout_rate', 0.3, 0.7)\n",
    "    weight_decay = trial.suggest_loguniform('weight_decay', 1e-5, 1e-3)\n",
    "    num_epochs = trial.suggest_int('num_epochs', 10, 50)\n",
    "\n",
    "    kfold = StratifiedKFold(n_splits=5, shuffle=True, random_state=42)\n",
    "    fold_accuracies = []\n",
    "\n",
    "    # Assuming y_train is binary or single-label for StratifiedKFold\n",
    "    y_for_split = y_train.argmax(axis=1) if y_train.ndim > 1 else y_train\n",
    "\n",
    "    for train_idx, val_idx in kfold.split(X_train, y_for_split):\n",
    "        X_tr, X_val = X_train[train_idx], X_train[val_idx]\n",
    "        y_tr, y_val = y_train[train_idx], y_train[val_idx]\n",
    "\n",
    "        model = EDVisitLSTM(input_dim=1024, hidden_dim_1=hidden_dim_1, hidden_dim_2=hidden_dim_2, dropout_rate=dropout_rate).to(device)\n",
    "        optimizer = torch.optim.Adam(model.parameters(), lr=learning_rate, weight_decay=weight_decay)\n",
    "        criterion = nn.BCEWithLogitsLoss()\n",
    "\n",
    "        X_tr_tensor = torch.tensor(X_tr, dtype=torch.float32).to(device)\n",
    "        y_tr_tensor = torch.tensor(y_tr, dtype=torch.float32).to(device)\n",
    "        X_val_tensor = torch.tensor(X_val, dtype=torch.float32).to(device)\n",
    "        y_val_tensor = torch.tensor(y_val, dtype=torch.float32).to(device)\n",
    "\n",
    "        for epoch in range(num_epochs):\n",
    "            model.train()\n",
    "            optimizer.zero_grad()\n",
    "            outputs = model(X_tr_tensor)\n",
    "            loss = criterion(outputs, y_tr_tensor)\n",
    "            loss.backward()\n",
    "            optimizer.step()\n",
    "\n",
    "        # Validation\n",
    "        model.eval()\n",
    "        with torch.no_grad():\n",
    "            val_outputs = model(X_val_tensor)\n",
    "            predicted = torch.sigmoid(val_outputs) > 0.5\n",
    "            accuracy = (predicted == y_val_tensor).float().mean().item()\n",
    "            fold_accuracies.append(accuracy)\n",
    "\n",
    "    avg_accuracy = np.mean(fold_accuracies)\n",
    "    return avg_accuracy"
   ]
  },
  {
   "cell_type": "code",
   "execution_count": 69,
   "metadata": {},
   "outputs": [
    {
     "name": "stdout",
     "output_type": "stream",
     "text": [
      "Best trial:\n",
      "FrozenTrial(number=80, state=1, values=[0.7719198107719422], datetime_start=datetime.datetime(2025, 4, 15, 12, 31, 19, 424108), datetime_complete=datetime.datetime(2025, 4, 15, 12, 31, 20, 689326), params={'hidden_dim_1': 127, 'hidden_dim_2': 41, 'learning_rate': 0.0009956259628703492, 'dropout_rate': 0.4156700242810004, 'weight_decay': 0.00022481785771965784, 'num_epochs': 50}, user_attrs={}, system_attrs={}, intermediate_values={}, distributions={'hidden_dim_1': IntDistribution(high=200, log=False, low=50, step=1), 'hidden_dim_2': IntDistribution(high=100, log=False, low=25, step=1), 'learning_rate': FloatDistribution(high=0.001, log=True, low=1e-05, step=None), 'dropout_rate': FloatDistribution(high=0.7, log=False, low=0.3, step=None), 'weight_decay': FloatDistribution(high=0.001, log=True, low=1e-05, step=None), 'num_epochs': IntDistribution(high=50, log=False, low=10, step=1)}, trial_id=80, value=None)\n"
     ]
    }
   ],
   "source": [
    "optuna.logging.set_verbosity(optuna.logging.WARNING)\n",
    "\n",
    "study = optuna.create_study(direction='maximize')\n",
    "study.optimize(objective, n_trials=100, show_progress_bar=False)\n",
    "\n",
    "print(\"Best trial:\")\n",
    "print(study.best_trial)"
   ]
  },
  {
   "cell_type": "code",
   "execution_count": 54,
   "metadata": {},
   "outputs": [],
   "source": [
    "from sklearn.model_selection import StratifiedKFold\n",
    "import numpy as np\n",
    "\n",
    "def train_eval_model(model, train_loader, val_loader, device, epochs, lr, weight_decay):\n",
    "    model = model.to(device)\n",
    "    criterion = nn.BCEWithLogitsLoss()\n",
    "    optimizer = torch.optim.Adam(model.parameters(), lr=lr, weight_decay=weight_decay)\n",
    "\n",
    "    for epoch in range(epochs):\n",
    "        model.train()\n",
    "        for batch_X, batch_y in train_loader:\n",
    "            batch_X, batch_y = batch_X.to(device), batch_y.to(device)\n",
    "            optimizer.zero_grad()\n",
    "            outputs = model(batch_X)\n",
    "            loss = criterion(outputs, batch_y)\n",
    "            loss.backward()\n",
    "            optimizer.step()\n",
    "\n",
    "    model.eval()\n",
    "    val_loss = 0\n",
    "    with torch.no_grad():\n",
    "        for batch_X, batch_y in val_loader:\n",
    "            batch_X, batch_y = batch_X.to(device), batch_y.to(device)\n",
    "            outputs = model(batch_X)\n",
    "            loss = criterion(outputs, batch_y)\n",
    "            val_loss += loss.item()\n",
    "    return val_loss / len(val_loader)\n"
   ]
  },
  {
   "cell_type": "code",
   "execution_count": 57,
   "metadata": {},
   "outputs": [
    {
     "name": "stdout",
     "output_type": "stream",
     "text": [
      "Baseline Losses: [0.6418045163154602, 0.507326732079188, 0.6307149330774943, 0.5288248062133789, 0.5491339763005575]\n",
      "Bayesian Optimized Losses: [0.5989419420560201, 0.5155295133590698, 0.6219006180763245, 0.5169000128904978, 0.5423451662063599]\n"
     ]
    }
   ],
   "source": [
    "from sklearn.model_selection import KFold\n",
    "skf = KFold(n_splits=5, shuffle=True, random_state=42)\n",
    "baseline_scores = []\n",
    "bayesopt_scores = []\n",
    "\n",
    "for fold, (train_idx, val_idx) in enumerate(skf.split(X_train, y_train)):\n",
    "    X_tr, X_val = X_train[train_idx], X_train[val_idx]\n",
    "    y_tr, y_val = y_train[train_idx], y_train[val_idx]\n",
    "\n",
    "    train_dataset = EDVisitDataset(X_tr, y_tr)\n",
    "    val_dataset = EDVisitDataset(X_val, y_val)\n",
    "    train_loader = DataLoader(train_dataset, batch_size=32, shuffle=True)\n",
    "    val_loader = DataLoader(val_dataset, batch_size=32, shuffle=False)\n",
    "\n",
    "    # Baseline model\n",
    "    baseline_model = EDVisitLSTM(input_dim=1024, hidden_dim_1=50, hidden_dim_2=25, dropout_rate=0.1)\n",
    "    baseline_loss = train_eval_model(baseline_model, train_loader, val_loader, device, epochs=10, lr=0.01, weight_decay=0)\n",
    "    baseline_scores.append(baseline_loss)\n",
    "\n",
    "    # Bayesian Optimized model\n",
    "    opt_model = EDVisitLSTM(input_dim=1024, hidden_dim_1=137, hidden_dim_2=72, dropout_rate=0.35270259804050674)\n",
    "    opt_loss = train_eval_model(opt_model, train_loader, val_loader, device, epochs=10, lr=0.0008741257621345886, weight_decay=2.7482794787243684e-05)\n",
    "    bayesopt_scores.append(opt_loss)\n",
    "\n",
    "print(\"Baseline Losses:\", baseline_scores)\n",
    "print(\"Bayesian Optimized Losses:\", bayesopt_scores)"
   ]
  },
  {
   "cell_type": "code",
   "execution_count": 60,
   "metadata": {},
   "outputs": [
    {
     "data": {
      "image/png": "[encoded data removed]",
      "text/plain": [
       "<Figure size 1000x600 with 1 Axes>"
      ]
     },
     "metadata": {
      "image/png": {
       "height": 590,
       "width": 989
      }
     },
     "output_type": "display_data"
    }
   ],
   "source": [
    "import matplotlib.pyplot as plt\n",
    "\n",
    "folds = [f'Fold {i+1}' for i in range(5)]\n",
    "x = np.arange(len(folds))\n",
    "width = 0.35\n",
    "\n",
    "plt.figure(figsize=(10, 6))\n",
    "plt.bar(x - width/2, baseline_scores, width, label='Baseline')\n",
    "plt.bar(x + width/2, bayesopt_scores, width, label='Bayesian Optimized')\n",
    "\n",
    "plt.ylabel('Validation Loss')\n",
    "plt.title('Baseline vs Bayesian Optimized LSTM (5-Fold CV)')\n",
    "plt.xticks(x, folds)\n",
    "plt.legend()\n",
    "plt.tight_layout()\n",
    "plt.show()\n"
   ]
  },
  {
   "cell_type": "markdown",
   "metadata": {},
   "source": [
    "# 6. Sample training loop\n",
    "---"
   ]
  },
  {
   "cell_type": "code",
   "execution_count": null,
   "metadata": {},
   "outputs": [
    {
     "name": "stdout",
     "output_type": "stream",
     "text": [
      "Epoch 1/31 - Train Loss: 0.6091 - Test Loss: 0.5472\n",
      "Epoch 2/31 - Train Loss: 0.5709 - Test Loss: 0.5503\n",
      "Epoch 3/31 - Train Loss: 0.5566 - Test Loss: 0.5521\n",
      "Epoch 4/31 - Train Loss: 0.5600 - Test Loss: 0.5488\n",
      "Epoch 5/31 - Train Loss: 0.5408 - Test Loss: 0.5474\n",
      "Epoch 6/31 - Train Loss: 0.5528 - Test Loss: 0.5473\n",
      "Epoch 7/31 - Train Loss: 0.5470 - Test Loss: 0.5453\n",
      "Epoch 8/31 - Train Loss: 0.5487 - Test Loss: 0.5386\n",
      "Epoch 9/31 - Train Loss: 0.5445 - Test Loss: 0.5363\n",
      "Epoch 10/31 - Train Loss: 0.5386 - Test Loss: 0.5346\n",
      "Epoch 11/31 - Train Loss: 0.5387 - Test Loss: 0.5326\n",
      "Epoch 12/31 - Train Loss: 0.5377 - Test Loss: 0.5274\n",
      "Epoch 13/31 - Train Loss: 0.5282 - Test Loss: 0.5294\n",
      "Epoch 14/31 - Train Loss: 0.5211 - Test Loss: 0.5303\n",
      "Epoch 15/31 - Train Loss: 0.5261 - Test Loss: 0.5213\n",
      "Epoch 16/31 - Train Loss: 0.5178 - Test Loss: 0.5153\n",
      "Epoch 17/31 - Train Loss: 0.5197 - Test Loss: 0.5082\n",
      "Epoch 18/31 - Train Loss: 0.5085 - Test Loss: 0.5039\n",
      "Epoch 19/31 - Train Loss: 0.5028 - Test Loss: 0.5091\n",
      "Epoch 20/31 - Train Loss: 0.4961 - Test Loss: 0.5408\n",
      "Epoch 21/31 - Train Loss: 0.4961 - Test Loss: 0.5152\n",
      "Epoch 22/31 - Train Loss: 0.4955 - Test Loss: 0.5000\n",
      "Epoch 23/31 - Train Loss: 0.4706 - Test Loss: 0.5109\n",
      "Epoch 24/31 - Train Loss: 0.4811 - Test Loss: 0.5050\n",
      "Epoch 25/31 - Train Loss: 0.4640 - Test Loss: 0.5101\n",
      "Epoch 26/31 - Train Loss: 0.4596 - Test Loss: 0.5207\n",
      "Epoch 27/31 - Train Loss: 0.4603 - Test Loss: 0.5227\n",
      "Epoch 28/31 - Train Loss: 0.4733 - Test Loss: 0.5043\n",
      "Epoch 29/31 - Train Loss: 0.4573 - Test Loss: 0.4958\n",
      "Epoch 30/31 - Train Loss: 0.4669 - Test Loss: 0.5109\n",
      "Epoch 31/31 - Train Loss: 0.4475 - Test Loss: 0.4989\n",
      "Model saved successfully!\n"
     ]
    }
   ],
   "source": [
    "import torch\n",
    "\n",
    "device = torch.device('cuda' if torch.cuda.is_available() else 'cpu')\n",
    "model = EDVisitLSTM(input_dim=1024, hidden_dim_1=127, hidden_dim_2=41, dropout_rate=0.4156700242810004)\n",
    "model = model.to(device)\n",
    "\n",
    "# Apply to loss function\n",
    "criterion = nn.BCEWithLogitsLoss()\n",
    "optimizer = torch.optim.Adam(model.parameters(), lr=0.0009956259628703492, weight_decay=0.00022481785771965784)\n",
    "\n",
    "# Training loop\n",
    "num_epochs = 31\n",
    "\n",
    "for epoch in range(num_epochs):\n",
    "    model.train()\n",
    "    train_loss = 0\n",
    "\n",
    "    for batch_X, batch_y in train_loader:\n",
    "        batch_X, batch_y = batch_X.to(device), batch_y.to(device)\n",
    "\n",
    "        optimizer.zero_grad()\n",
    "        outputs = model(batch_X)\n",
    "        loss = criterion(outputs, batch_y)\n",
    "        loss.backward()\n",
    "        optimizer.step()\n",
    "        train_loss += loss.item()\n",
    "\n",
    "    # Evaluate on test set\n",
    "    model.eval()\n",
    "    test_loss = 0\n",
    "    with torch.no_grad():\n",
    "        for batch_X, batch_y in test_loader:\n",
    "            batch_X, batch_y = batch_X.to(device), batch_y.to(device)\n",
    "            outputs = model(batch_X)\n",
    "            loss = criterion(outputs, batch_y)\n",
    "            test_loss += loss.item()\n",
    "\n",
    "    print(f\"Epoch {epoch+1}/{num_epochs} - Train Loss: {train_loss/len(train_loader):.4f} - Test Loss: {test_loss/len(test_loader):.4f}\")\n",
    "\n",
    "# Save the model at the end of training\n",
    "torch.save(model.state_dict(), 'edvisit_lstm_model.pth')\n",
    "print(\"Model saved successfully!\")"
   ]
  },
  {
   "cell_type": "markdown",
   "metadata": {},
   "source": [
    "# 7. Cross Validation Training and Evaluation\n",
    "---"
   ]
  },
  {
   "cell_type": "code",
   "execution_count": null,
   "metadata": {},
   "outputs": [
    {
     "name": "stdout",
     "output_type": "stream",
     "text": [
      "\n",
      "Results for Time Point 1:\n",
      "  Accuracy:  0.7132 ± 0.0138\n",
      "  Precision: 0.6197 ± 0.0972\n",
      "  Recall:    0.4111 ± 0.1078\n",
      "  F1 Score:  0.4299 ± 0.0654\n",
      "  AUC:       0.7278 ± 0.0214\n",
      "\n",
      "Results for Time Point 2:\n",
      "  Accuracy:  0.7819 ± 0.0240\n",
      "  Precision: 0.7836 ± 0.0250\n",
      "  Recall:    0.9975 ± 0.0025\n",
      "  F1 Score:  0.8767 ± 0.0153\n",
      "  AUC:       0.7213 ± 0.0197\n",
      "\n",
      "Results for Time Point 3:\n",
      "  Accuracy:  0.8255 ± 0.0297\n",
      "  Precision: 0.8346 ± 0.0318\n",
      "  Recall:    0.9852 ± 0.0099\n",
      "  F1 Score:  0.9020 ± 0.0175\n",
      "  AUC:       0.6997 ± 0.0193\n",
      "\n",
      "Overall metrics across all folds:\n",
      "  Accuracy:  0.7735 ± 0.0170\n",
      "  Precision: 0.7795 ± 0.0177\n",
      "  Recall:    0.8959 ± 0.0205\n",
      "  F1 Score:  0.8331 ± 0.0156\n",
      "  AUC:       0.8244 ± 0.0180\n"
     ]
    }
   ],
   "source": [
    "accuracies = []\n",
    "precisions = []\n",
    "recalls = []\n",
    "f1s = []\n",
    "roc_aucs = []\n",
    "\n",
    "time_point_results = {t: {'accuracies': [], 'precisions': [], 'recalls': [], 'f1s': [], 'roc_aucs': []}\n",
    "                      for t in range(y.shape[1])}\n",
    "\n",
    "overall_accuracies = []\n",
    "overall_precisions = []\n",
    "overall_recalls = []\n",
    "overall_f1s = []\n",
    "overall_roc_aucs = []\n",
    "\n",
    "kfold = KFold(n_splits=5, shuffle=True, random_state=42)\n",
    "\n",
    "y_for_split = y.argmax(axis=1) if y.ndim > 1 else y\n",
    "\n",
    "# Cross-validation loop\n",
    "for fold, (train_idx, val_idx) in enumerate(kfold.split(X, y_for_split)):\n",
    "\n",
    "    # Split the data into train and validation sets\n",
    "    X_train_fold, X_val_fold = X[train_idx], X[val_idx]\n",
    "    y_train_fold, y_val_fold = y[train_idx], y[val_idx]\n",
    "\n",
    "    train_dataset = EDVisitDataset(X_train_fold, y_train_fold)\n",
    "    val_dataset = EDVisitDataset(X_val_fold, y_val_fold)\n",
    "\n",
    "    train_loader = DataLoader(train_dataset, batch_size=32, shuffle=True)\n",
    "    val_loader = DataLoader(val_dataset, batch_size=32, shuffle=False)\n",
    "\n",
    "    device = torch.device('cuda' if torch.cuda.is_available() else 'cpu')\n",
    "    model = EDVisitLSTM(input_dim=1024, hidden_dim_1=127, hidden_dim_2=41, dropout_rate=0.4156700242810004)\n",
    "    model = model.to(device)\n",
    "\n",
    "    # Loss function and optimizer\n",
    "    criterion = nn.BCEWithLogitsLoss()\n",
    "    optimizer = torch.optim.Adam(model.parameters(), lr=0.0009956259628703492, weight_decay=0.00022481785771965784)\n",
    "\n",
    "    # Training loop for this fold\n",
    "    model.train()\n",
    "    for epoch in range(31):\n",
    "        for batch_X, batch_y in train_loader:\n",
    "            batch_X, batch_y = batch_X.to(device), batch_y.to(device)\n",
    "            optimizer.zero_grad()\n",
    "\n",
    "            outputs = model(batch_X)\n",
    "            loss = criterion(outputs, batch_y)\n",
    "            loss.backward()\n",
    "            optimizer.step()\n",
    "\n",
    "    # Evaluation loop for this fold\n",
    "    model.eval()\n",
    "    all_preds = []\n",
    "    all_labels = []\n",
    "\n",
    "    with torch.no_grad():\n",
    "        for batch_X, batch_y in val_loader:\n",
    "            batch_X, batch_y = batch_X.to(device), batch_y.to(device)\n",
    "            outputs = model(batch_X)\n",
    "\n",
    "            all_preds.append(outputs.cpu().numpy())\n",
    "            all_labels.append(batch_y.cpu().numpy())\n",
    "\n",
    "    all_preds = np.vstack(all_preds)\n",
    "    all_labels = np.vstack(all_labels)\n",
    "\n",
    "    # For binary classification, apply sigmoid to get probabilities\n",
    "    all_preds_proba = 1 / (1 + np.exp(-all_preds))  # Apply sigmoid to get probabilities\n",
    "\n",
    "    # Convert predictions (sigmoid) to binary labels (for other metrics)\n",
    "    preds_bin = (all_preds_proba > 0.5).astype(int)  # Convert to 0 or 1\n",
    "\n",
    "    for t in range(all_labels.shape[1]):\n",
    "        acc = accuracy_score(all_labels[:, t], preds_bin[:, t])\n",
    "        prec = precision_score(all_labels[:, t], preds_bin[:, t], zero_division=0)\n",
    "        rec = recall_score(all_labels[:, t], preds_bin[:, t])\n",
    "        f1 = f1_score(all_labels[:, t], preds_bin[:, t])\n",
    "\n",
    "        # AUC needs probability scores (not binary predictions)\n",
    "        try:\n",
    "            auc = roc_auc_score(all_labels[:, t], all_preds_proba[:, t])\n",
    "        except ValueError:\n",
    "            # In case of only one class being present\n",
    "            auc = float('nan')  # if only one class is present in y_true\n",
    "\n",
    "        time_point_results[t]['accuracies'].append(acc)\n",
    "        time_point_results[t]['precisions'].append(prec)\n",
    "        time_point_results[t]['recalls'].append(rec)\n",
    "        time_point_results[t]['f1s'].append(f1)\n",
    "        time_point_results[t]['roc_aucs'].append(auc)\n",
    "\n",
    "    overall_acc = accuracy_score(all_labels.flatten(), preds_bin.flatten())\n",
    "    overall_prec = precision_score(all_labels.flatten(), preds_bin.flatten(), zero_division=0)\n",
    "    overall_rec = recall_score(all_labels.flatten(), preds_bin.flatten())\n",
    "    overall_f1 = f1_score(all_labels.flatten(), preds_bin.flatten())\n",
    "    try:\n",
    "        overall_auc = roc_auc_score(all_labels.flatten(), all_preds_proba.flatten())\n",
    "    except ValueError:\n",
    "        overall_auc = float('nan')\n",
    "\n",
    "    overall_accuracies.append(overall_acc)\n",
    "    overall_precisions.append(overall_prec)\n",
    "    overall_recalls.append(overall_rec)\n",
    "    overall_f1s.append(overall_f1)\n",
    "    overall_roc_aucs.append(overall_auc)\n",
    "\n",
    "for t in range(y.shape[1]):\n",
    "    print(f\"\\nResults for Time Point {t+1}:\")\n",
    "    print(f\"  Accuracy:  {np.mean(time_point_results[t]['accuracies']):.4f} ± {np.std(time_point_results[t]['accuracies'], ddof=1) / np.sqrt(len(time_point_results[t]['accuracies'])):.4f}\")\n",
    "    print(f\"  Precision: {np.mean(time_point_results[t]['precisions']):.4f} ± {np.std(time_point_results[t]['precisions'], ddof=1) / np.sqrt(len(time_point_results[t]['precisions'])):.4f}\")\n",
    "    print(f\"  Recall:    {np.mean(time_point_results[t]['recalls']):.4f} ± {np.std(time_point_results[t]['recalls'], ddof=1) / np.sqrt(len(time_point_results[t]['recalls'])):.4f}\")\n",
    "    print(f\"  F1 Score:  {np.mean(time_point_results[t]['f1s']):.4f} ± {np.std(time_point_results[t]['f1s'], ddof=1) / np.sqrt(len(time_point_results[t]['f1s'])):.4f}\")\n",
    "    print(f\"  AUC:       {np.mean(time_point_results[t]['roc_aucs']):.4f} ± {np.std(time_point_results[t]['roc_aucs'], ddof=1) / np.sqrt(len(time_point_results[t]['roc_aucs'])):.4f}\")\n",
    "\n",
    "print(\"\\nOverall metrics across all folds:\")\n",
    "print(f\"  Accuracy:  {np.mean(overall_accuracies):.4f} ± {np.std(overall_accuracies, ddof=1) / np.sqrt(len(overall_accuracies)):.4f}\")\n",
    "print(f\"  Precision: {np.mean(overall_precisions):.4f} ± {np.std(overall_precisions, ddof=1) / np.sqrt(len(overall_precisions)):.4f}\")\n",
    "print(f\"  Recall:    {np.mean(overall_recalls):.4f} ± {np.std(overall_recalls, ddof=1) / np.sqrt(len(overall_recalls)):.4f}\")\n",
    "print(f\"  F1 Score:  {np.mean(overall_f1s):.4f} ± {np.std(overall_f1s, ddof=1) / np.sqrt(len(overall_f1s)):.4f}\")\n",
    "print(f\"  AUC:       {np.mean(overall_roc_aucs):.4f} ± {np.std(overall_roc_aucs, ddof=1) / np.sqrt(len(overall_roc_aucs)):.4f}\")"
   ]
  }
 ],
 "metadata": {
  "kernelspec": {
   "display_name": "Python 3",
   "language": "python",
   "name": "python3"
  },
  "language_info": {
   "codemirror_mode": {
    "name": "ipython",
    "version": 3
   },
   "file_extension": ".py",
   "mimetype": "text/x-python",
   "name": "python",
   "nbconvert_exporter": "python",
   "pygments_lexer": "ipython3",
   "version": "3.11.9"
  }
 },
 "nbformat": 4,
 "nbformat_minor": 2
}
